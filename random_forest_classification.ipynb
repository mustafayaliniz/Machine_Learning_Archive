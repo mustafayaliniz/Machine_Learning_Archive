{
 "cells": [
  {
   "cell_type": "code",
   "id": "initial_id",
   "metadata": {
    "collapsed": true,
    "ExecuteTime": {
     "end_time": "2024-09-06T15:49:03.711032Z",
     "start_time": "2024-09-06T15:49:03.708299Z"
    }
   },
   "source": [
    "import pandas as pd\n",
    "import numpy as np"
   ],
   "outputs": [],
   "execution_count": 398
  },
  {
   "metadata": {},
   "cell_type": "markdown",
   "source": "@author: MUSTAFA YALINIZ",
   "id": "c03ec8920418bf7"
  },
  {
   "metadata": {
    "ExecuteTime": {
     "end_time": "2024-09-06T15:49:03.726547Z",
     "start_time": "2024-09-06T15:49:03.721124Z"
    }
   },
   "cell_type": "code",
   "source": [
    "# Veriyi oku\n",
    "data = pd.read_csv('veriler.csv')\n",
    "data.head()"
   ],
   "id": "df7d954d1276ba45",
   "outputs": [
    {
     "data": {
      "text/plain": [
       "  ulke  boy  kilo  yas cinsiyet\n",
       "0   tr  130    30   10        e\n",
       "1   tr  125    36   11        e\n",
       "2   tr  135    34   10        k\n",
       "3   tr  133    30    9        k\n",
       "4   tr  129    38   12        e"
      ],
      "text/html": [
       "<div>\n",
       "<style scoped>\n",
       "    .dataframe tbody tr th:only-of-type {\n",
       "        vertical-align: middle;\n",
       "    }\n",
       "\n",
       "    .dataframe tbody tr th {\n",
       "        vertical-align: top;\n",
       "    }\n",
       "\n",
       "    .dataframe thead th {\n",
       "        text-align: right;\n",
       "    }\n",
       "</style>\n",
       "<table border=\"1\" class=\"dataframe\">\n",
       "  <thead>\n",
       "    <tr style=\"text-align: right;\">\n",
       "      <th></th>\n",
       "      <th>ulke</th>\n",
       "      <th>boy</th>\n",
       "      <th>kilo</th>\n",
       "      <th>yas</th>\n",
       "      <th>cinsiyet</th>\n",
       "    </tr>\n",
       "  </thead>\n",
       "  <tbody>\n",
       "    <tr>\n",
       "      <th>0</th>\n",
       "      <td>tr</td>\n",
       "      <td>130</td>\n",
       "      <td>30</td>\n",
       "      <td>10</td>\n",
       "      <td>e</td>\n",
       "    </tr>\n",
       "    <tr>\n",
       "      <th>1</th>\n",
       "      <td>tr</td>\n",
       "      <td>125</td>\n",
       "      <td>36</td>\n",
       "      <td>11</td>\n",
       "      <td>e</td>\n",
       "    </tr>\n",
       "    <tr>\n",
       "      <th>2</th>\n",
       "      <td>tr</td>\n",
       "      <td>135</td>\n",
       "      <td>34</td>\n",
       "      <td>10</td>\n",
       "      <td>k</td>\n",
       "    </tr>\n",
       "    <tr>\n",
       "      <th>3</th>\n",
       "      <td>tr</td>\n",
       "      <td>133</td>\n",
       "      <td>30</td>\n",
       "      <td>9</td>\n",
       "      <td>k</td>\n",
       "    </tr>\n",
       "    <tr>\n",
       "      <th>4</th>\n",
       "      <td>tr</td>\n",
       "      <td>129</td>\n",
       "      <td>38</td>\n",
       "      <td>12</td>\n",
       "      <td>e</td>\n",
       "    </tr>\n",
       "  </tbody>\n",
       "</table>\n",
       "</div>"
      ]
     },
     "execution_count": 399,
     "metadata": {},
     "output_type": "execute_result"
    }
   ],
   "execution_count": 399
  },
  {
   "metadata": {
    "ExecuteTime": {
     "end_time": "2024-09-06T15:49:03.741062Z",
     "start_time": "2024-09-06T15:49:03.737719Z"
    }
   },
   "cell_type": "code",
   "source": [
    "# Veriyi bagimli bagimsiz degiskenlere bol\n",
    "X = data.iloc[:, 1:4].values\n",
    "Y = data.iloc[:, 4].values"
   ],
   "id": "58a5f8161f2646b6",
   "outputs": [],
   "execution_count": 400
  },
  {
   "metadata": {
    "ExecuteTime": {
     "end_time": "2024-09-06T15:49:03.744738Z",
     "start_time": "2024-09-06T15:49:03.742067Z"
    }
   },
   "cell_type": "code",
   "source": [
    "# Veriyi Test ve Train olarak ayir\n",
    "from sklearn.model_selection import train_test_split\n",
    "X_train, X_test, Y_train, Y_test = train_test_split(X, Y, test_size=0.33, random_state=0)"
   ],
   "id": "5adc7c2ec6b3546a",
   "outputs": [],
   "execution_count": 401
  },
  {
   "metadata": {
    "ExecuteTime": {
     "end_time": "2024-09-06T15:49:03.753834Z",
     "start_time": "2024-09-06T15:49:03.745747Z"
    }
   },
   "cell_type": "code",
   "source": [
    "# Veriyi egit ve tahminde bulun\n",
    "from sklearn.ensemble import RandomForestClassifier\n",
    "rfc = RandomForestClassifier(n_estimators=5, criterion='entropy',random_state=0) # criterion= 'gini' de kullanilabilir, n_estimators= 10 \n",
    "rfc.fit(X_train, Y_train)\n",
    "pred = rfc.predict(X_test)\n",
    "print(pred)"
   ],
   "id": "cd0847e9cbbb7be3",
   "outputs": [
    {
     "name": "stdout",
     "output_type": "stream",
     "text": [
      "['e' 'k' 'e' 'k' 'e' 'k' 'e' 'k']\n"
     ]
    }
   ],
   "execution_count": 402
  },
  {
   "metadata": {
    "ExecuteTime": {
     "end_time": "2024-09-06T15:49:03.757800Z",
     "start_time": "2024-09-06T15:49:03.754839Z"
    }
   },
   "cell_type": "code",
   "source": [
    "# Confusion matrixi gor\n",
    "from sklearn.metrics import confusion_matrix\n",
    "cm = confusion_matrix(Y_test, pred)\n",
    "true = cm[0][0] + cm[1][1]\n",
    "false = cm[1][0] + cm[0][1]\n",
    "print('Confusion Matrix')\n",
    "print(cm)\n",
    "print(f'Durum: {true+false}, Dogru: {true}, Yanlis: {false}')"
   ],
   "id": "aaf2b93a4d508013",
   "outputs": [
    {
     "name": "stdout",
     "output_type": "stream",
     "text": [
      "Confusion Matrix\n",
      "[[1 0]\n",
      " [3 4]]\n",
      "Durum: 8, Dogru: 5, Yanlis: 3\n"
     ]
    }
   ],
   "execution_count": 403
  },
  {
   "metadata": {
    "ExecuteTime": {
     "end_time": "2024-09-06T15:49:03.760537Z",
     "start_time": "2024-09-06T15:49:03.757800Z"
    }
   },
   "cell_type": "code",
   "source": [
    "# X_Test icin ortalama al\n",
    "X_mean = np.mean(X_test, axis=1)\n",
    "X_mean = X_mean.reshape(-1, 1)"
   ],
   "id": "4821a4b878d5dc94",
   "outputs": [],
   "execution_count": 404
  },
  {
   "metadata": {
    "ExecuteTime": {
     "end_time": "2024-09-06T15:49:03.820680Z",
     "start_time": "2024-09-06T15:49:03.760537Z"
    }
   },
   "cell_type": "code",
   "source": [
    "# Goruntu olustur\n",
    "from matplotlib import pyplot as plt\n",
    "plt.scatter(X_mean,Y_test, color='red', label='Data',s=50)\n",
    "plt.scatter(X_mean,rfc.predict(X_test), label='Prediction',s=25,marker='x')\n",
    "plt.xlabel('Bagimsiz Degisken')\n",
    "plt.ylabel('Bagimli Degisken')\n",
    "plt.title('Random Forest Classification')\n",
    "plt.legend()\n",
    "plt.show()"
   ],
   "id": "19c41f74a9c44644",
   "outputs": [
    {
     "data": {
      "text/plain": [
       "<Figure size 640x480 with 1 Axes>"
      ],
      "image/png": "[encoded data removed]"
     },
     "metadata": {},
     "output_type": "display_data"
    }
   ],
   "execution_count": 405
  }
 ],
 "metadata": {
  "kernelspec": {
   "display_name": "Python 3",
   "language": "python",
   "name": "python3"
  },
  "language_info": {
   "codemirror_mode": {
    "name": "ipython",
    "version": 2
   },
   "file_extension": ".py",
   "mimetype": "text/x-python",
   "name": "python",
   "nbconvert_exporter": "python",
   "pygments_lexer": "ipython2",
   "version": "2.7.6"
  }
 },
 "nbformat": 4,
 "nbformat_minor": 5
}
