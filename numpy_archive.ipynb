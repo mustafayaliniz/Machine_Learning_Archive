{
 "cells": [
  {
   "metadata": {
    "ExecuteTime": {
     "end_time": "2024-08-20T12:06:01.528808Z",
     "start_time": "2024-08-20T12:06:01.524122Z"
    }
   },
   "cell_type": "code",
   "source": "import  numpy as np",
   "id": "1bc274abb3432b68",
   "outputs": [],
   "execution_count": 326
  },
  {
   "metadata": {},
   "cell_type": "markdown",
   "source": "@Author= MUSTAFA YALINIZ",
   "id": "4adedf19cc360828"
  },
  {
   "metadata": {
    "ExecuteTime": {
     "end_time": "2024-08-20T12:06:01.545500Z",
     "start_time": "2024-08-20T12:06:01.539852Z"
    }
   },
   "cell_type": "code",
   "source": [
    "#rastgele sayi üremte \n",
    "data =np.random.rand(3,3)\n",
    "data"
   ],
   "id": "c70de74c780ff021",
   "outputs": [
    {
     "data": {
      "text/plain": [
       "array([[0.02948437, 0.1198556 , 0.31590565],\n",
       "       [0.42557737, 0.85989222, 0.14166177],\n",
       "       [0.81957958, 0.3931829 , 0.05761   ]])"
      ]
     },
     "execution_count": 327,
     "metadata": {},
     "output_type": "execute_result"
    }
   ],
   "execution_count": 327
  },
  {
   "metadata": {
    "ExecuteTime": {
     "end_time": "2024-08-20T12:06:01.597485Z",
     "start_time": "2024-08-20T12:06:01.587332Z"
    }
   },
   "cell_type": "code",
   "source": [
    "#matris boyutunu ogrenme\n",
    "data.shape"
   ],
   "id": "bf6b38fbba23d0a0",
   "outputs": [
    {
     "data": {
      "text/plain": [
       "(3, 3)"
      ]
     },
     "execution_count": 328,
     "metadata": {},
     "output_type": "execute_result"
    }
   ],
   "execution_count": 328
  },
  {
   "metadata": {
    "ExecuteTime": {
     "end_time": "2024-08-20T12:06:01.601702Z",
     "start_time": "2024-08-20T12:06:01.597485Z"
    }
   },
   "cell_type": "code",
   "source": [
    "#veri tipini ogrenme\n",
    "data.dtype"
   ],
   "id": "6639aac7c8a98871",
   "outputs": [
    {
     "data": {
      "text/plain": [
       "dtype('float64')"
      ]
     },
     "execution_count": 329,
     "metadata": {},
     "output_type": "execute_result"
    }
   ],
   "execution_count": 329
  },
  {
   "metadata": {
    "ExecuteTime": {
     "end_time": "2024-08-20T12:06:01.606727Z",
     "start_time": "2024-08-20T12:06:01.603206Z"
    }
   },
   "cell_type": "code",
   "source": [
    "#dizi olusturma \n",
    "veri=(1,2,3,4)\n",
    "df=np.array(veri)\n",
    "df"
   ],
   "id": "18c886fddb2eeef6",
   "outputs": [
    {
     "data": {
      "text/plain": [
       "array([1, 2, 3, 4])"
      ]
     },
     "execution_count": 330,
     "metadata": {},
     "output_type": "execute_result"
    }
   ],
   "execution_count": 330
  },
  {
   "metadata": {
    "ExecuteTime": {
     "end_time": "2024-08-20T12:06:01.610448Z",
     "start_time": "2024-08-20T12:06:01.606727Z"
    }
   },
   "cell_type": "code",
   "source": [
    "#dizi olusturma 2\n",
    "veri1=[[1,2,3],[4,5,6]]\n",
    "data=np.array(veri1)\n",
    "data"
   ],
   "id": "1377d2e3821887f",
   "outputs": [
    {
     "data": {
      "text/plain": [
       "array([[1, 2, 3],\n",
       "       [4, 5, 6]])"
      ]
     },
     "execution_count": 331,
     "metadata": {},
     "output_type": "execute_result"
    }
   ],
   "execution_count": 331
  },
  {
   "metadata": {
    "ExecuteTime": {
     "end_time": "2024-08-20T12:06:01.616372Z",
     "start_time": "2024-08-20T12:06:01.610448Z"
    }
   },
   "cell_type": "code",
   "source": [
    "#dizi olusturma 3\n",
    "data=np.array(5,dtype=np.float64)\n",
    "data"
   ],
   "id": "cd39d8c5d44f16c4",
   "outputs": [
    {
     "data": {
      "text/plain": [
       "array(5.)"
      ]
     },
     "execution_count": 332,
     "metadata": {},
     "output_type": "execute_result"
    }
   ],
   "execution_count": 332
  },
  {
   "metadata": {
    "ExecuteTime": {
     "end_time": "2024-08-20T12:06:01.620068Z",
     "start_time": "2024-08-20T12:06:01.616372Z"
    }
   },
   "cell_type": "code",
   "source": [
    "#sifirli dizi olusturma \n",
    "data=np.zeros((3,3))\n",
    "data"
   ],
   "id": "1dc1019fef7c76a6",
   "outputs": [
    {
     "data": {
      "text/plain": [
       "array([[0., 0., 0.],\n",
       "       [0., 0., 0.],\n",
       "       [0., 0., 0.]])"
      ]
     },
     "execution_count": 333,
     "metadata": {},
     "output_type": "execute_result"
    }
   ],
   "execution_count": 333
  },
  {
   "metadata": {
    "ExecuteTime": {
     "end_time": "2024-08-20T12:06:01.627071Z",
     "start_time": "2024-08-20T12:06:01.620068Z"
    }
   },
   "cell_type": "code",
   "source": [
    "#sifirli dizi olusturma 2\n",
    "data=np.zeros(5)\n",
    "data"
   ],
   "id": "e87791f14b41a3a",
   "outputs": [
    {
     "data": {
      "text/plain": [
       "array([0., 0., 0., 0., 0.])"
      ]
     },
     "execution_count": 334,
     "metadata": {},
     "output_type": "execute_result"
    }
   ],
   "execution_count": 334
  },
  {
   "metadata": {
    "ExecuteTime": {
     "end_time": "2024-08-20T12:06:01.647026Z",
     "start_time": "2024-08-20T12:06:01.634358Z"
    }
   },
   "cell_type": "code",
   "source": [
    "#elemanlari '1' li dizi olusturma \n",
    "data=np.ones((3,3))\n",
    "data"
   ],
   "id": "366c5cfa42a3b8f7",
   "outputs": [
    {
     "data": {
      "text/plain": [
       "array([[1., 1., 1.],\n",
       "       [1., 1., 1.],\n",
       "       [1., 1., 1.]])"
      ]
     },
     "execution_count": 335,
     "metadata": {},
     "output_type": "execute_result"
    }
   ],
   "execution_count": 335
  },
  {
   "metadata": {
    "ExecuteTime": {
     "end_time": "2024-08-20T12:06:01.650908Z",
     "start_time": "2024-08-20T12:06:01.647026Z"
    }
   },
   "cell_type": "code",
   "source": [
    "#elemanlari '1' li dizi olusturma 2\n",
    "data=np.ones(5,dtype=np.int32) #tam sayili\n",
    "data"
   ],
   "id": "bf19d0598cf3f400",
   "outputs": [
    {
     "data": {
      "text/plain": [
       "array([1, 1, 1, 1, 1])"
      ]
     },
     "execution_count": 336,
     "metadata": {},
     "output_type": "execute_result"
    }
   ],
   "execution_count": 336
  },
  {
   "metadata": {
    "ExecuteTime": {
     "end_time": "2024-08-20T12:06:01.659280Z",
     "start_time": "2024-08-20T12:06:01.650908Z"
    }
   },
   "cell_type": "code",
   "source": [
    "#bos dizi olusturma \n",
    "data=np.empty((2,2,2))\n",
    "data"
   ],
   "id": "50b91924b9318a97",
   "outputs": [
    {
     "data": {
      "text/plain": [
       "array([[[0.0000e+000, 0.0000e+000],\n",
       "        [0.0000e+000, 0.0000e+000]],\n",
       "\n",
       "       [[0.0000e+000, 1.2233e-320],\n",
       "        [0.0000e+000, 0.0000e+000]]])"
      ]
     },
     "execution_count": 337,
     "metadata": {},
     "output_type": "execute_result"
    }
   ],
   "execution_count": 337
  },
  {
   "metadata": {
    "ExecuteTime": {
     "end_time": "2024-08-20T12:06:01.662954Z",
     "start_time": "2024-08-20T12:06:01.659280Z"
    }
   },
   "cell_type": "code",
   "source": [
    "#sirali dizi olusturma \n",
    "data=np.arange(10,dtype=np.float64) #veri tipi float\n",
    "data"
   ],
   "id": "ad79505e247c37cc",
   "outputs": [
    {
     "data": {
      "text/plain": [
       "array([0., 1., 2., 3., 4., 5., 6., 7., 8., 9.])"
      ]
     },
     "execution_count": 338,
     "metadata": {},
     "output_type": "execute_result"
    }
   ],
   "execution_count": 338
  },
  {
   "metadata": {
    "ExecuteTime": {
     "end_time": "2024-08-20T12:06:01.670756Z",
     "start_time": "2024-08-20T12:06:01.665970Z"
    }
   },
   "cell_type": "code",
   "source": [
    "#veri tipini degistirme\n",
    "veri =np.array([1.3,2.3,3.3,4.5,5.5,6.5])\n",
    "data=veri.astype(int)\n",
    "data"
   ],
   "id": "69d045af62f2b2b7",
   "outputs": [
    {
     "data": {
      "text/plain": [
       "array([1, 2, 3, 4, 5, 6])"
      ]
     },
     "execution_count": 339,
     "metadata": {},
     "output_type": "execute_result"
    }
   ],
   "execution_count": 339
  },
  {
   "metadata": {
    "ExecuteTime": {
     "end_time": "2024-08-20T12:06:01.694092Z",
     "start_time": "2024-08-20T12:06:01.675199Z"
    }
   },
   "cell_type": "code",
   "source": [
    "#veri tipini degistirme 2\n",
    "numeric_string=np.array([1.212,2.56,3.654,4.54,5.86,6.12,7.86,8.876,9.11],dtype=np.string_) #veri tipi string\n",
    "data=numeric_string.astype(float)\n",
    "data"
   ],
   "id": "18e9579fd59523fb",
   "outputs": [
    {
     "data": {
      "text/plain": [
       "array([1.212, 2.56 , 3.654, 4.54 , 5.86 , 6.12 , 7.86 , 8.876, 9.11 ])"
      ]
     },
     "execution_count": 340,
     "metadata": {},
     "output_type": "execute_result"
    }
   ],
   "execution_count": 340
  },
  {
   "metadata": {
    "ExecuteTime": {
     "end_time": "2024-08-20T12:06:01.702749Z",
     "start_time": "2024-08-20T12:06:01.694092Z"
    }
   },
   "cell_type": "code",
   "source": [
    "#matris boyutlandirma \n",
    "data=np.arange(9)\n",
    "data=data.reshape(3,3)\n",
    "data"
   ],
   "id": "1dd1c065c0cd3",
   "outputs": [
    {
     "data": {
      "text/plain": [
       "array([[0, 1, 2],\n",
       "       [3, 4, 5],\n",
       "       [6, 7, 8]])"
      ]
     },
     "execution_count": 341,
     "metadata": {},
     "output_type": "execute_result"
    }
   ],
   "execution_count": 341
  },
  {
   "metadata": {
    "ExecuteTime": {
     "end_time": "2024-08-20T12:06:01.711209Z",
     "start_time": "2024-08-20T12:06:01.706754Z"
    }
   },
   "cell_type": "code",
   "source": [
    "#kokunu alma \n",
    "arr=np.arange(5)\n",
    "np.sqrt(arr)\n"
   ],
   "id": "13e3c3e13d6fad80",
   "outputs": [
    {
     "data": {
      "text/plain": [
       "array([0.        , 1.        , 1.41421356, 1.73205081, 2.        ])"
      ]
     },
     "execution_count": 342,
     "metadata": {},
     "output_type": "execute_result"
    }
   ],
   "execution_count": 342
  },
  {
   "metadata": {
    "ExecuteTime": {
     "end_time": "2024-08-20T12:06:01.715025Z",
     "start_time": "2024-08-20T12:06:01.711209Z"
    }
   },
   "cell_type": "code",
   "source": [
    "#e^x alma \n",
    "np.exp(arr) #exp = e^x"
   ],
   "id": "b7e4542f0a68ab1f",
   "outputs": [
    {
     "data": {
      "text/plain": [
       "array([ 1.        ,  2.71828183,  7.3890561 , 20.08553692, 54.59815003])"
      ]
     },
     "execution_count": 343,
     "metadata": {},
     "output_type": "execute_result"
    }
   ],
   "execution_count": 343
  },
  {
   "metadata": {
    "ExecuteTime": {
     "end_time": "2024-08-20T12:06:01.718742Z",
     "start_time": "2024-08-20T12:06:01.715025Z"
    }
   },
   "cell_type": "code",
   "source": [
    "#dosya kaydetme \n",
    "data=np.array([[1,2,3],[4,5,6],[7,8,9]])\n",
    "np.save('data.npy',data)"
   ],
   "id": "311237308190341c",
   "outputs": [],
   "execution_count": 344
  },
  {
   "metadata": {
    "ExecuteTime": {
     "end_time": "2024-08-20T12:06:01.723622Z",
     "start_time": "2024-08-20T12:06:01.718742Z"
    }
   },
   "cell_type": "code",
   "source": [
    "#dosya okuma \n",
    "np.load('data.npy')"
   ],
   "id": "3b8ffae5b4a733d5",
   "outputs": [
    {
     "data": {
      "text/plain": [
       "array([[1, 2, 3],\n",
       "       [4, 5, 6],\n",
       "       [7, 8, 9]])"
      ]
     },
     "execution_count": 345,
     "metadata": {},
     "output_type": "execute_result"
    }
   ],
   "execution_count": 345
  },
  {
   "metadata": {
    "ExecuteTime": {
     "end_time": "2024-08-20T12:06:01.727624Z",
     "start_time": "2024-08-20T12:06:01.723622Z"
    }
   },
   "cell_type": "code",
   "source": [
    "#matris toplami \n",
    "A = np.array([[1, 2, 3],\n",
    "              [4, 5, 6]])\n",
    "\n",
    "B = np.array([[7, 8, 9],\n",
    "              [10, 11, 12]])\n",
    "\n",
    "# Toplama\n",
    "C = A + B\n",
    "\n",
    "C"
   ],
   "id": "9ec3e18970f64100",
   "outputs": [
    {
     "data": {
      "text/plain": [
       "array([[ 8, 10, 12],\n",
       "       [14, 16, 18]])"
      ]
     },
     "execution_count": 346,
     "metadata": {},
     "output_type": "execute_result"
    }
   ],
   "execution_count": 346
  },
  {
   "metadata": {
    "ExecuteTime": {
     "end_time": "2024-08-20T12:06:01.744792Z",
     "start_time": "2024-08-20T12:06:01.732060Z"
    }
   },
   "cell_type": "code",
   "source": [
    "#matris carpimi \n",
    "x=np.array([[1,2,3],[4,5,6]])\n",
    "y=np.array([[6.23],[-1.27],[8.9]])\n",
    "\n",
    "x.dot(y) # np.dot(x,y) bu da calisir "
   ],
   "id": "f4078ff50558123a",
   "outputs": [
    {
     "data": {
      "text/plain": [
       "array([[30.39],\n",
       "       [71.97]])"
      ]
     },
     "execution_count": 347,
     "metadata": {},
     "output_type": "execute_result"
    }
   ],
   "execution_count": 347
  },
  {
   "metadata": {
    "ExecuteTime": {
     "end_time": "2024-08-20T12:06:01.779030Z",
     "start_time": "2024-08-20T12:06:01.763529Z"
    }
   },
   "cell_type": "code",
   "source": [
    "#iki matrisin karsilikli gelen elemanlari carpimi \n",
    "A = np.array([[1, 2, 3],\n",
    "              [4, 5, 6]])\n",
    "\n",
    "B = np.array([[7, 8, 9],\n",
    "              [10, 11, 12]])\n",
    "\n",
    "\n",
    "C = A * B\n",
    "C"
   ],
   "id": "30ee8f13dbd99cbc",
   "outputs": [
    {
     "data": {
      "text/plain": [
       "array([[ 7, 16, 27],\n",
       "       [40, 55, 72]])"
      ]
     },
     "execution_count": 348,
     "metadata": {},
     "output_type": "execute_result"
    }
   ],
   "execution_count": 348
  },
  {
   "metadata": {
    "ExecuteTime": {
     "end_time": "2024-08-20T12:06:01.800292Z",
     "start_time": "2024-08-20T12:06:01.785614Z"
    }
   },
   "cell_type": "code",
   "source": [
    "#matrisin transpozu \n",
    "A = np.array([[1, 2, 3],\n",
    "              [4, 5, 6]])\n",
    "A_T = A.T\n",
    "A_T"
   ],
   "id": "c56d24a454c5ef34",
   "outputs": [
    {
     "data": {
      "text/plain": [
       "array([[1, 4],\n",
       "       [2, 5],\n",
       "       [3, 6]])"
      ]
     },
     "execution_count": 349,
     "metadata": {},
     "output_type": "execute_result"
    }
   ],
   "execution_count": 349
  },
  {
   "metadata": {
    "ExecuteTime": {
     "end_time": "2024-08-20T12:06:01.804404Z",
     "start_time": "2024-08-20T12:06:01.800292Z"
    }
   },
   "cell_type": "code",
   "source": [
    "#matrisin determinanti\n",
    "A = np.array([[1, 2],\n",
    "              [3, 4]])\n",
    "\n",
    "det = np.linalg.det(A) #det fonksiyonu determinantini aliyor\n",
    "det"
   ],
   "id": "8a5cb66cdccbfbf6",
   "outputs": [
    {
     "data": {
      "text/plain": [
       "-2.0000000000000004"
      ]
     },
     "execution_count": 350,
     "metadata": {},
     "output_type": "execute_result"
    }
   ],
   "execution_count": 350
  },
  {
   "metadata": {
    "ExecuteTime": {
     "end_time": "2024-08-20T12:06:01.813214Z",
     "start_time": "2024-08-20T12:06:01.804404Z"
    }
   },
   "cell_type": "code",
   "source": [
    "#matrisin tersi \n",
    "A = np.array([[1, 2],\n",
    "              [3, 4]])\n",
    "\n",
    "A_inv = np.linalg.inv(A) # inv fonksiyonu tersini aliyor \n",
    "A_inv"
   ],
   "id": "5f0e2806ef7367a8",
   "outputs": [
    {
     "data": {
      "text/plain": [
       "array([[-2. ,  1. ],\n",
       "       [ 1.5, -0.5]])"
      ]
     },
     "execution_count": 351,
     "metadata": {},
     "output_type": "execute_result"
    }
   ],
   "execution_count": 351
  }
 ],
 "metadata": {
  "kernelspec": {
   "display_name": "Python 3",
   "language": "python",
   "name": "python3"
  },
  "language_info": {
   "codemirror_mode": {
    "name": "ipython",
    "version": 2
   },
   "file_extension": ".py",
   "mimetype": "text/x-python",
   "name": "python",
   "nbconvert_exporter": "python",
   "pygments_lexer": "ipython2",
   "version": "2.7.6"
  }
 },
 "nbformat": 4,
 "nbformat_minor": 5
}
