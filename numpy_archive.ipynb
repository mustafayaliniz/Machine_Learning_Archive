{
 "cells": [
  {
   "metadata": {
    "ExecuteTime": {
     "end_time": "2024-08-20T13:03:07.954735Z",
     "start_time": "2024-08-20T13:03:07.950420Z"
    }
   },
   "cell_type": "code",
   "source": "import  numpy as np",
   "id": "1bc274abb3432b68",
   "outputs": [],
   "execution_count": 462
  },
  {
   "metadata": {},
   "cell_type": "markdown",
   "source": "@author= MUSTAFA YALINIZ",
   "id": "4adedf19cc360828"
  },
  {
   "metadata": {
    "ExecuteTime": {
     "end_time": "2024-08-20T13:03:08.028079Z",
     "start_time": "2024-08-20T13:03:08.013775Z"
    }
   },
   "cell_type": "code",
   "source": [
    "#rastgele sayi üremte \n",
    "data =np.random.rand(3,3)\n",
    "data"
   ],
   "id": "c70de74c780ff021",
   "outputs": [
    {
     "data": {
      "text/plain": [
       "array([[0.96436391, 0.9422074 , 0.19812544],\n",
       "       [0.41947313, 0.3627598 , 0.86243137],\n",
       "       [0.54740252, 0.26780058, 0.95031842]])"
      ]
     },
     "execution_count": 463,
     "metadata": {},
     "output_type": "execute_result"
    }
   ],
   "execution_count": 463
  },
  {
   "metadata": {
    "ExecuteTime": {
     "end_time": "2024-08-20T13:03:08.031930Z",
     "start_time": "2024-08-20T13:03:08.028079Z"
    }
   },
   "cell_type": "code",
   "source": [
    "#matris boyutunu ogrenme\n",
    "data.shape"
   ],
   "id": "bf6b38fbba23d0a0",
   "outputs": [
    {
     "data": {
      "text/plain": [
       "(3, 3)"
      ]
     },
     "execution_count": 464,
     "metadata": {},
     "output_type": "execute_result"
    }
   ],
   "execution_count": 464
  },
  {
   "metadata": {
    "ExecuteTime": {
     "end_time": "2024-08-20T13:03:08.040472Z",
     "start_time": "2024-08-20T13:03:08.031930Z"
    }
   },
   "cell_type": "code",
   "source": [
    "#veri tipini ogrenme\n",
    "data.dtype"
   ],
   "id": "6639aac7c8a98871",
   "outputs": [
    {
     "data": {
      "text/plain": [
       "dtype('float64')"
      ]
     },
     "execution_count": 465,
     "metadata": {},
     "output_type": "execute_result"
    }
   ],
   "execution_count": 465
  },
  {
   "metadata": {
    "ExecuteTime": {
     "end_time": "2024-08-20T13:03:08.048844Z",
     "start_time": "2024-08-20T13:03:08.045594Z"
    }
   },
   "cell_type": "code",
   "source": [
    "#dizi olusturma \n",
    "veri=(1,2,3,4)\n",
    "df=np.array(veri)\n",
    "df"
   ],
   "id": "18c886fddb2eeef6",
   "outputs": [
    {
     "data": {
      "text/plain": [
       "array([1, 2, 3, 4])"
      ]
     },
     "execution_count": 466,
     "metadata": {},
     "output_type": "execute_result"
    }
   ],
   "execution_count": 466
  },
  {
   "metadata": {
    "ExecuteTime": {
     "end_time": "2024-08-20T13:03:08.053945Z",
     "start_time": "2024-08-20T13:03:08.048844Z"
    }
   },
   "cell_type": "code",
   "source": [
    "#dizi olusturma 2\n",
    "veri1=[[1,2,3],[4,5,6]]\n",
    "data=np.array(veri1)\n",
    "data"
   ],
   "id": "1377d2e3821887f",
   "outputs": [
    {
     "data": {
      "text/plain": [
       "array([[1, 2, 3],\n",
       "       [4, 5, 6]])"
      ]
     },
     "execution_count": 467,
     "metadata": {},
     "output_type": "execute_result"
    }
   ],
   "execution_count": 467
  },
  {
   "metadata": {
    "ExecuteTime": {
     "end_time": "2024-08-20T13:03:08.103927Z",
     "start_time": "2024-08-20T13:03:08.092692Z"
    }
   },
   "cell_type": "code",
   "source": [
    "#dizi olusturma 3\n",
    "data=np.array(5,dtype=np.float64)\n",
    "data"
   ],
   "id": "cd39d8c5d44f16c4",
   "outputs": [
    {
     "data": {
      "text/plain": [
       "array(5.)"
      ]
     },
     "execution_count": 468,
     "metadata": {},
     "output_type": "execute_result"
    }
   ],
   "execution_count": 468
  },
  {
   "metadata": {
    "ExecuteTime": {
     "end_time": "2024-08-20T13:03:08.117Z",
     "start_time": "2024-08-20T13:03:08.108539Z"
    }
   },
   "cell_type": "code",
   "source": [
    "#sifirli dizi olusturma \n",
    "data=np.zeros((3,3))\n",
    "data"
   ],
   "id": "1dc1019fef7c76a6",
   "outputs": [
    {
     "data": {
      "text/plain": [
       "array([[0., 0., 0.],\n",
       "       [0., 0., 0.],\n",
       "       [0., 0., 0.]])"
      ]
     },
     "execution_count": 469,
     "metadata": {},
     "output_type": "execute_result"
    }
   ],
   "execution_count": 469
  },
  {
   "metadata": {
    "ExecuteTime": {
     "end_time": "2024-08-20T13:03:08.125705Z",
     "start_time": "2024-08-20T13:03:08.117Z"
    }
   },
   "cell_type": "code",
   "source": [
    "#sifirli dizi olusturma 2\n",
    "data=np.zeros(5)\n",
    "data"
   ],
   "id": "e87791f14b41a3a",
   "outputs": [
    {
     "data": {
      "text/plain": [
       "array([0., 0., 0., 0., 0.])"
      ]
     },
     "execution_count": 470,
     "metadata": {},
     "output_type": "execute_result"
    }
   ],
   "execution_count": 470
  },
  {
   "metadata": {
    "ExecuteTime": {
     "end_time": "2024-08-20T13:03:08.134927Z",
     "start_time": "2024-08-20T13:03:08.125705Z"
    }
   },
   "cell_type": "code",
   "source": [
    "#elemanlari '1' li dizi olusturma \n",
    "data=np.ones((3,3))\n",
    "data"
   ],
   "id": "366c5cfa42a3b8f7",
   "outputs": [
    {
     "data": {
      "text/plain": [
       "array([[1., 1., 1.],\n",
       "       [1., 1., 1.],\n",
       "       [1., 1., 1.]])"
      ]
     },
     "execution_count": 471,
     "metadata": {},
     "output_type": "execute_result"
    }
   ],
   "execution_count": 471
  },
  {
   "metadata": {
    "ExecuteTime": {
     "end_time": "2024-08-20T13:03:08.150507Z",
     "start_time": "2024-08-20T13:03:08.140497Z"
    }
   },
   "cell_type": "code",
   "source": [
    "#elemanlari '1' li dizi olusturma 2\n",
    "data=np.ones(5,dtype=np.int32) #tam sayili\n",
    "data"
   ],
   "id": "bf19d0598cf3f400",
   "outputs": [
    {
     "data": {
      "text/plain": [
       "array([1, 1, 1, 1, 1])"
      ]
     },
     "execution_count": 472,
     "metadata": {},
     "output_type": "execute_result"
    }
   ],
   "execution_count": 472
  },
  {
   "metadata": {
    "ExecuteTime": {
     "end_time": "2024-08-20T13:03:08.154611Z",
     "start_time": "2024-08-20T13:03:08.150507Z"
    }
   },
   "cell_type": "code",
   "source": [
    "#bos dizi olusturma \n",
    "data=np.empty((2,2,2))\n",
    "data"
   ],
   "id": "50b91924b9318a97",
   "outputs": [
    {
     "data": {
      "text/plain": [
       "array([[[0.0000e+000, 0.0000e+000],\n",
       "        [0.0000e+000, 0.0000e+000]],\n",
       "\n",
       "       [[0.0000e+000, 1.2233e-320],\n",
       "        [0.0000e+000, 0.0000e+000]]])"
      ]
     },
     "execution_count": 473,
     "metadata": {},
     "output_type": "execute_result"
    }
   ],
   "execution_count": 473
  },
  {
   "metadata": {
    "ExecuteTime": {
     "end_time": "2024-08-20T13:03:08.165178Z",
     "start_time": "2024-08-20T13:03:08.155667Z"
    }
   },
   "cell_type": "code",
   "source": [
    "#sirali dizi olusturma \n",
    "data=np.arange(10,dtype=np.float64) #veri tipi float\n",
    "data"
   ],
   "id": "ad79505e247c37cc",
   "outputs": [
    {
     "data": {
      "text/plain": [
       "array([0., 1., 2., 3., 4., 5., 6., 7., 8., 9.])"
      ]
     },
     "execution_count": 474,
     "metadata": {},
     "output_type": "execute_result"
    }
   ],
   "execution_count": 474
  },
  {
   "metadata": {
    "ExecuteTime": {
     "end_time": "2024-08-20T13:03:08.176082Z",
     "start_time": "2024-08-20T13:03:08.171787Z"
    }
   },
   "cell_type": "code",
   "source": [
    "#veri tipini degistirme\n",
    "veri =np.array([1.3,2.3,3.3,4.5,5.5,6.5])\n",
    "data=veri.astype(int)\n",
    "data"
   ],
   "id": "69d045af62f2b2b7",
   "outputs": [
    {
     "data": {
      "text/plain": [
       "array([1, 2, 3, 4, 5, 6])"
      ]
     },
     "execution_count": 475,
     "metadata": {},
     "output_type": "execute_result"
    }
   ],
   "execution_count": 475
  },
  {
   "metadata": {
    "ExecuteTime": {
     "end_time": "2024-08-20T13:03:08.187495Z",
     "start_time": "2024-08-20T13:03:08.184224Z"
    }
   },
   "cell_type": "code",
   "source": [
    "#veri tipini degistirme 2\n",
    "numeric_string=np.array([1.212,2.56,3.654,4.54,5.86,6.12,7.86,8.876,9.11],dtype=np.string_) #veri tipi string\n",
    "data=numeric_string.astype(float)\n",
    "data"
   ],
   "id": "18e9579fd59523fb",
   "outputs": [
    {
     "data": {
      "text/plain": [
       "array([1.212, 2.56 , 3.654, 4.54 , 5.86 , 6.12 , 7.86 , 8.876, 9.11 ])"
      ]
     },
     "execution_count": 476,
     "metadata": {},
     "output_type": "execute_result"
    }
   ],
   "execution_count": 476
  },
  {
   "metadata": {
    "ExecuteTime": {
     "end_time": "2024-08-20T13:03:08.204116Z",
     "start_time": "2024-08-20T13:03:08.189436Z"
    }
   },
   "cell_type": "code",
   "source": [
    "#matris boyutlandirma \n",
    "data=np.arange(9)\n",
    "data=data.reshape(3,3)\n",
    "data"
   ],
   "id": "1dd1c065c0cd3",
   "outputs": [
    {
     "data": {
      "text/plain": [
       "array([[0, 1, 2],\n",
       "       [3, 4, 5],\n",
       "       [6, 7, 8]])"
      ]
     },
     "execution_count": 477,
     "metadata": {},
     "output_type": "execute_result"
    }
   ],
   "execution_count": 477
  },
  {
   "metadata": {
    "ExecuteTime": {
     "end_time": "2024-08-20T13:03:08.215269Z",
     "start_time": "2024-08-20T13:03:08.204116Z"
    }
   },
   "cell_type": "code",
   "source": [
    "#kokunu alma \n",
    "arr=np.arange(5)\n",
    "np.sqrt(arr)\n"
   ],
   "id": "13e3c3e13d6fad80",
   "outputs": [
    {
     "data": {
      "text/plain": [
       "array([0.        , 1.        , 1.41421356, 1.73205081, 2.        ])"
      ]
     },
     "execution_count": 478,
     "metadata": {},
     "output_type": "execute_result"
    }
   ],
   "execution_count": 478
  },
  {
   "metadata": {
    "ExecuteTime": {
     "end_time": "2024-08-20T13:03:08.219187Z",
     "start_time": "2024-08-20T13:03:08.215269Z"
    }
   },
   "cell_type": "code",
   "source": [
    "#e^x alma \n",
    "np.exp(arr) #exp = e^x"
   ],
   "id": "b7e4542f0a68ab1f",
   "outputs": [
    {
     "data": {
      "text/plain": [
       "array([ 1.        ,  2.71828183,  7.3890561 , 20.08553692, 54.59815003])"
      ]
     },
     "execution_count": 479,
     "metadata": {},
     "output_type": "execute_result"
    }
   ],
   "execution_count": 479
  },
  {
   "metadata": {
    "ExecuteTime": {
     "end_time": "2024-08-20T13:03:08.229031Z",
     "start_time": "2024-08-20T13:03:08.220243Z"
    }
   },
   "cell_type": "code",
   "source": [
    "#dosya kaydetme \n",
    "data=np.array([[1,2,3],[4,5,6],[7,8,9]])\n",
    "np.save('data.npy',data)"
   ],
   "id": "311237308190341c",
   "outputs": [],
   "execution_count": 480
  },
  {
   "metadata": {
    "ExecuteTime": {
     "end_time": "2024-08-20T13:03:08.260025Z",
     "start_time": "2024-08-20T13:03:08.246124Z"
    }
   },
   "cell_type": "code",
   "source": [
    "#dosya okuma \n",
    "np.load('data.npy')"
   ],
   "id": "3b8ffae5b4a733d5",
   "outputs": [
    {
     "data": {
      "text/plain": [
       "array([[1, 2, 3],\n",
       "       [4, 5, 6],\n",
       "       [7, 8, 9]])"
      ]
     },
     "execution_count": 481,
     "metadata": {},
     "output_type": "execute_result"
    }
   ],
   "execution_count": 481
  },
  {
   "metadata": {
    "ExecuteTime": {
     "end_time": "2024-08-20T13:03:08.264704Z",
     "start_time": "2024-08-20T13:03:08.260025Z"
    }
   },
   "cell_type": "code",
   "source": [
    "#matris toplami \n",
    "A = np.array([[1, 2, 3],\n",
    "              [4, 5, 6]])\n",
    "\n",
    "B = np.array([[7, 8, 9],\n",
    "              [10, 11, 12]])\n",
    "\n",
    "# Toplama\n",
    "C = A + B\n",
    "\n",
    "C"
   ],
   "id": "9ec3e18970f64100",
   "outputs": [
    {
     "data": {
      "text/plain": [
       "array([[ 8, 10, 12],\n",
       "       [14, 16, 18]])"
      ]
     },
     "execution_count": 482,
     "metadata": {},
     "output_type": "execute_result"
    }
   ],
   "execution_count": 482
  },
  {
   "metadata": {
    "ExecuteTime": {
     "end_time": "2024-08-20T13:03:08.271542Z",
     "start_time": "2024-08-20T13:03:08.264704Z"
    }
   },
   "cell_type": "code",
   "source": [
    "#matris carpimi \n",
    "x=np.array([[1,2,3],[4,5,6]])\n",
    "y=np.array([[6.23],[-1.27],[8.9]])\n",
    "\n",
    "x.dot(y) # np.dot(x,y) bu da calisir "
   ],
   "id": "f4078ff50558123a",
   "outputs": [
    {
     "data": {
      "text/plain": [
       "array([[30.39],\n",
       "       [71.97]])"
      ]
     },
     "execution_count": 483,
     "metadata": {},
     "output_type": "execute_result"
    }
   ],
   "execution_count": 483
  },
  {
   "metadata": {
    "ExecuteTime": {
     "end_time": "2024-08-20T13:03:08.275671Z",
     "start_time": "2024-08-20T13:03:08.271542Z"
    }
   },
   "cell_type": "code",
   "source": [
    "#iki matrisin karsilikli gelen elemanlari carpimi \n",
    "A = np.array([[1, 2, 3],\n",
    "              [4, 5, 6]])\n",
    "\n",
    "B = np.array([[7, 8, 9],\n",
    "              [10, 11, 12]])\n",
    "\n",
    "\n",
    "C = A * B\n",
    "C"
   ],
   "id": "30ee8f13dbd99cbc",
   "outputs": [
    {
     "data": {
      "text/plain": [
       "array([[ 7, 16, 27],\n",
       "       [40, 55, 72]])"
      ]
     },
     "execution_count": 484,
     "metadata": {},
     "output_type": "execute_result"
    }
   ],
   "execution_count": 484
  },
  {
   "metadata": {
    "ExecuteTime": {
     "end_time": "2024-08-20T13:03:08.279163Z",
     "start_time": "2024-08-20T13:03:08.275671Z"
    }
   },
   "cell_type": "code",
   "source": [
    "#matrisin transpozu \n",
    "A = np.array([[1, 2, 3],\n",
    "              [4, 5, 6]])\n",
    "A_T = A.T\n",
    "A_T"
   ],
   "id": "c56d24a454c5ef34",
   "outputs": [
    {
     "data": {
      "text/plain": [
       "array([[1, 4],\n",
       "       [2, 5],\n",
       "       [3, 6]])"
      ]
     },
     "execution_count": 485,
     "metadata": {},
     "output_type": "execute_result"
    }
   ],
   "execution_count": 485
  },
  {
   "metadata": {
    "ExecuteTime": {
     "end_time": "2024-08-20T13:03:08.285949Z",
     "start_time": "2024-08-20T13:03:08.279163Z"
    }
   },
   "cell_type": "code",
   "source": [
    "#matrisin determinanti\n",
    "A = np.array([[1, 2],\n",
    "              [3, 4]])\n",
    "\n",
    "det = np.linalg.det(A) #det fonksiyonu determinantini aliyor\n",
    "det"
   ],
   "id": "8a5cb66cdccbfbf6",
   "outputs": [
    {
     "data": {
      "text/plain": [
       "-2.0000000000000004"
      ]
     },
     "execution_count": 486,
     "metadata": {},
     "output_type": "execute_result"
    }
   ],
   "execution_count": 486
  },
  {
   "metadata": {
    "ExecuteTime": {
     "end_time": "2024-08-20T13:03:08.301758Z",
     "start_time": "2024-08-20T13:03:08.290679Z"
    }
   },
   "cell_type": "code",
   "source": [
    "#matrisin tersi \n",
    "A = np.array([[1, 2],\n",
    "              [3, 4]])\n",
    "\n",
    "A_inv = np.linalg.inv(A) # inv fonksiyonu tersini aliyor \n",
    "A_inv"
   ],
   "id": "5f0e2806ef7367a8",
   "outputs": [
    {
     "data": {
      "text/plain": [
       "array([[-2. ,  1. ],\n",
       "       [ 1.5, -0.5]])"
      ]
     },
     "execution_count": 487,
     "metadata": {},
     "output_type": "execute_result"
    }
   ],
   "execution_count": 487
  },
  {
   "metadata": {
    "ExecuteTime": {
     "end_time": "2024-08-20T13:03:08.305739Z",
     "start_time": "2024-08-20T13:03:08.301758Z"
    }
   },
   "cell_type": "code",
   "source": [
    "#matristen sutun cikarma \n",
    "data = np.array([[1,2,3],[4,5,6],[7,8,9]])\n",
    "data=np.delete(data,1,axis=1) #2.sutun cikardim\n",
    "data"
   ],
   "id": "e022438afe393ccf",
   "outputs": [
    {
     "data": {
      "text/plain": [
       "array([[1, 3],\n",
       "       [4, 6],\n",
       "       [7, 9]])"
      ]
     },
     "execution_count": 488,
     "metadata": {},
     "output_type": "execute_result"
    }
   ],
   "execution_count": 488
  },
  {
   "metadata": {
    "ExecuteTime": {
     "end_time": "2024-08-20T13:03:08.316451Z",
     "start_time": "2024-08-20T13:03:08.305739Z"
    }
   },
   "cell_type": "code",
   "source": [
    "data = np.array([[1,2,3],[4,5,6],[7,8,9]])\n",
    "data=np.delete(data,1,axis=0) #2.satiri cikardim\n",
    "data"
   ],
   "id": "4f7e8f3cc10bdc3d",
   "outputs": [
    {
     "data": {
      "text/plain": [
       "array([[1, 2, 3],\n",
       "       [7, 8, 9]])"
      ]
     },
     "execution_count": 489,
     "metadata": {},
     "output_type": "execute_result"
    }
   ],
   "execution_count": 489
  }
 ],
 "metadata": {
  "kernelspec": {
   "display_name": "Python 3",
   "language": "python",
   "name": "python3"
  },
  "language_info": {
   "codemirror_mode": {
    "name": "ipython",
    "version": 2
   },
   "file_extension": ".py",
   "mimetype": "text/x-python",
   "name": "python",
   "nbconvert_exporter": "python",
   "pygments_lexer": "ipython2",
   "version": "2.7.6"
  }
 },
 "nbformat": 4,
 "nbformat_minor": 5
}
