{
 "cells": [
  {
   "metadata": {
    "ExecuteTime": {
     "end_time": "2024-09-02T21:01:28.310515Z",
     "start_time": "2024-09-02T21:01:28.237653Z"
    }
   },
   "cell_type": "code",
   "source": "import  numpy as np",
   "id": "1bc274abb3432b68",
   "outputs": [],
   "execution_count": 1
  },
  {
   "metadata": {},
   "cell_type": "markdown",
   "source": "@Author= MUSTAFA YALINIZ",
   "id": "4adedf19cc360828"
  },
  {
   "metadata": {
    "ExecuteTime": {
     "end_time": "2024-09-02T21:01:28.318135Z",
     "start_time": "2024-09-02T21:01:28.310515Z"
    }
   },
   "cell_type": "code",
   "source": [
    "#rastgele sayi üremte \n",
    "data =np.random.rand(3,3)\n",
    "data"
   ],
   "id": "c70de74c780ff021",
   "outputs": [
    {
     "data": {
      "text/plain": [
       "array([[0.77786968, 0.3248955 , 0.86582183],\n",
       "       [0.09063506, 0.50096238, 0.34822633],\n",
       "       [0.50315097, 0.15584996, 0.27440795]])"
      ]
     },
     "execution_count": 2,
     "metadata": {},
     "output_type": "execute_result"
    }
   ],
   "execution_count": 2
  },
  {
   "metadata": {
    "ExecuteTime": {
     "end_time": "2024-09-02T21:01:28.321717Z",
     "start_time": "2024-09-02T21:01:28.318135Z"
    }
   },
   "cell_type": "code",
   "source": [
    "#matris boyutunu ogrenme\n",
    "data.shape"
   ],
   "id": "bf6b38fbba23d0a0",
   "outputs": [
    {
     "data": {
      "text/plain": [
       "(3, 3)"
      ]
     },
     "execution_count": 3,
     "metadata": {},
     "output_type": "execute_result"
    }
   ],
   "execution_count": 3
  },
  {
   "metadata": {
    "ExecuteTime": {
     "end_time": "2024-09-02T21:01:28.325595Z",
     "start_time": "2024-09-02T21:01:28.321717Z"
    }
   },
   "cell_type": "code",
   "source": [
    "#veri tipini ogrenme\n",
    "data.dtype"
   ],
   "id": "6639aac7c8a98871",
   "outputs": [
    {
     "data": {
      "text/plain": [
       "dtype('float64')"
      ]
     },
     "execution_count": 4,
     "metadata": {},
     "output_type": "execute_result"
    }
   ],
   "execution_count": 4
  },
  {
   "metadata": {
    "ExecuteTime": {
     "end_time": "2024-09-02T21:01:28.329883Z",
     "start_time": "2024-09-02T21:01:28.325595Z"
    }
   },
   "cell_type": "code",
   "source": [
    "#dizi olusturma \n",
    "veri=(1,2,3,4)\n",
    "df=np.array(veri)\n",
    "df"
   ],
   "id": "18c886fddb2eeef6",
   "outputs": [
    {
     "data": {
      "text/plain": [
       "array([1, 2, 3, 4])"
      ]
     },
     "execution_count": 5,
     "metadata": {},
     "output_type": "execute_result"
    }
   ],
   "execution_count": 5
  },
  {
   "metadata": {
    "ExecuteTime": {
     "end_time": "2024-09-02T21:01:28.333947Z",
     "start_time": "2024-09-02T21:01:28.329883Z"
    }
   },
   "cell_type": "code",
   "source": [
    "#dizi olusturma 2\n",
    "veri1=[[1,2,3],[4,5,6]]\n",
    "data=np.array(veri1)\n",
    "data"
   ],
   "id": "1377d2e3821887f",
   "outputs": [
    {
     "data": {
      "text/plain": [
       "array([[1, 2, 3],\n",
       "       [4, 5, 6]])"
      ]
     },
     "execution_count": 6,
     "metadata": {},
     "output_type": "execute_result"
    }
   ],
   "execution_count": 6
  },
  {
   "metadata": {
    "ExecuteTime": {
     "end_time": "2024-09-02T21:01:28.337645Z",
     "start_time": "2024-09-02T21:01:28.333947Z"
    }
   },
   "cell_type": "code",
   "source": [
    "#dizi olusturma 3\n",
    "data=np.array(5,dtype=np.float64)\n",
    "data"
   ],
   "id": "cd39d8c5d44f16c4",
   "outputs": [
    {
     "data": {
      "text/plain": [
       "array(5.)"
      ]
     },
     "execution_count": 7,
     "metadata": {},
     "output_type": "execute_result"
    }
   ],
   "execution_count": 7
  },
  {
   "metadata": {
    "ExecuteTime": {
     "end_time": "2024-09-02T21:01:28.340819Z",
     "start_time": "2024-09-02T21:01:28.337645Z"
    }
   },
   "cell_type": "code",
   "source": [
    "#sifirli dizi olusturma \n",
    "data=np.zeros((3,3))\n",
    "data"
   ],
   "id": "1dc1019fef7c76a6",
   "outputs": [
    {
     "data": {
      "text/plain": [
       "array([[0., 0., 0.],\n",
       "       [0., 0., 0.],\n",
       "       [0., 0., 0.]])"
      ]
     },
     "execution_count": 8,
     "metadata": {},
     "output_type": "execute_result"
    }
   ],
   "execution_count": 8
  },
  {
   "metadata": {
    "ExecuteTime": {
     "end_time": "2024-09-02T21:01:28.344164Z",
     "start_time": "2024-09-02T21:01:28.340819Z"
    }
   },
   "cell_type": "code",
   "source": [
    "#sifirli dizi olusturma 2\n",
    "data=np.zeros(5)\n",
    "data"
   ],
   "id": "e87791f14b41a3a",
   "outputs": [
    {
     "data": {
      "text/plain": [
       "array([0., 0., 0., 0., 0.])"
      ]
     },
     "execution_count": 9,
     "metadata": {},
     "output_type": "execute_result"
    }
   ],
   "execution_count": 9
  },
  {
   "metadata": {
    "ExecuteTime": {
     "end_time": "2024-09-02T21:01:28.348539Z",
     "start_time": "2024-09-02T21:01:28.344164Z"
    }
   },
   "cell_type": "code",
   "source": [
    "#elemanlari '1' li dizi olusturma \n",
    "data=np.ones((3,3))\n",
    "data"
   ],
   "id": "366c5cfa42a3b8f7",
   "outputs": [
    {
     "data": {
      "text/plain": [
       "array([[1., 1., 1.],\n",
       "       [1., 1., 1.],\n",
       "       [1., 1., 1.]])"
      ]
     },
     "execution_count": 10,
     "metadata": {},
     "output_type": "execute_result"
    }
   ],
   "execution_count": 10
  },
  {
   "metadata": {
    "ExecuteTime": {
     "end_time": "2024-09-02T21:01:28.351973Z",
     "start_time": "2024-09-02T21:01:28.348539Z"
    }
   },
   "cell_type": "code",
   "source": [
    "#elemanlari '1' li dizi olusturma 2\n",
    "data=np.ones(5,dtype=np.int32) #tam sayili\n",
    "data"
   ],
   "id": "bf19d0598cf3f400",
   "outputs": [
    {
     "data": {
      "text/plain": [
       "array([1, 1, 1, 1, 1])"
      ]
     },
     "execution_count": 11,
     "metadata": {},
     "output_type": "execute_result"
    }
   ],
   "execution_count": 11
  },
  {
   "metadata": {
    "ExecuteTime": {
     "end_time": "2024-09-02T21:01:28.355609Z",
     "start_time": "2024-09-02T21:01:28.351973Z"
    }
   },
   "cell_type": "code",
   "source": [
    "#bos dizi olusturma \n",
    "data=np.empty((2,2,2))\n",
    "data"
   ],
   "id": "50b91924b9318a97",
   "outputs": [
    {
     "data": {
      "text/plain": [
       "array([[[4.67296746e-307, 1.69121096e-306],\n",
       "        [7.56607956e-307, 1.89146896e-307]],\n",
       "\n",
       "       [[7.56571288e-307, 3.11525958e-307],\n",
       "        [1.24610723e-306, 1.29061142e-306]]])"
      ]
     },
     "execution_count": 12,
     "metadata": {},
     "output_type": "execute_result"
    }
   ],
   "execution_count": 12
  },
  {
   "metadata": {
    "ExecuteTime": {
     "end_time": "2024-09-02T21:01:28.359242Z",
     "start_time": "2024-09-02T21:01:28.355609Z"
    }
   },
   "cell_type": "code",
   "source": [
    "#sirali dizi olusturma \n",
    "data=np.arange(10,dtype=np.float64) #veri tipi float\n",
    "data"
   ],
   "id": "ad79505e247c37cc",
   "outputs": [
    {
     "data": {
      "text/plain": [
       "array([0., 1., 2., 3., 4., 5., 6., 7., 8., 9.])"
      ]
     },
     "execution_count": 13,
     "metadata": {},
     "output_type": "execute_result"
    }
   ],
   "execution_count": 13
  },
  {
   "metadata": {
    "ExecuteTime": {
     "end_time": "2024-09-02T21:01:28.362688Z",
     "start_time": "2024-09-02T21:01:28.359242Z"
    }
   },
   "cell_type": "code",
   "source": [
    "#veri tipini degistirme\n",
    "veri =np.array([1.3,2.3,3.3,4.5,5.5,6.5])\n",
    "data=veri.astype(int)\n",
    "data"
   ],
   "id": "69d045af62f2b2b7",
   "outputs": [
    {
     "data": {
      "text/plain": [
       "array([1, 2, 3, 4, 5, 6])"
      ]
     },
     "execution_count": 14,
     "metadata": {},
     "output_type": "execute_result"
    }
   ],
   "execution_count": 14
  },
  {
   "metadata": {
    "ExecuteTime": {
     "end_time": "2024-09-02T21:01:28.366673Z",
     "start_time": "2024-09-02T21:01:28.362688Z"
    }
   },
   "cell_type": "code",
   "source": [
    "#veri tipini degistirme 2\n",
    "numeric_string=np.array([1.212,2.56,3.654,4.54,5.86,6.12,7.86,8.876,9.11],dtype=np.string_) #veri tipi string\n",
    "data=numeric_string.astype(float)\n",
    "data"
   ],
   "id": "18e9579fd59523fb",
   "outputs": [
    {
     "data": {
      "text/plain": [
       "array([1.212, 2.56 , 3.654, 4.54 , 5.86 , 6.12 , 7.86 , 8.876, 9.11 ])"
      ]
     },
     "execution_count": 15,
     "metadata": {},
     "output_type": "execute_result"
    }
   ],
   "execution_count": 15
  },
  {
   "metadata": {
    "ExecuteTime": {
     "end_time": "2024-09-02T21:01:28.370186Z",
     "start_time": "2024-09-02T21:01:28.366673Z"
    }
   },
   "cell_type": "code",
   "source": [
    "#matris boyutlandirma \n",
    "data=np.arange(9)\n",
    "data=data.reshape(3,3)\n",
    "data"
   ],
   "id": "1dd1c065c0cd3",
   "outputs": [
    {
     "data": {
      "text/plain": [
       "array([[0, 1, 2],\n",
       "       [3, 4, 5],\n",
       "       [6, 7, 8]])"
      ]
     },
     "execution_count": 16,
     "metadata": {},
     "output_type": "execute_result"
    }
   ],
   "execution_count": 16
  },
  {
   "metadata": {
    "ExecuteTime": {
     "end_time": "2024-09-02T21:01:28.374146Z",
     "start_time": "2024-09-02T21:01:28.370186Z"
    }
   },
   "cell_type": "code",
   "source": [
    "# Dizi birlestirme\n",
    "dizi1 = np.array([1, 2, 3])\n",
    "dizi2 = np.array([4, 5, 6])\n",
    "\n",
    "birlesmis_dizi = np.vstack((dizi1, dizi2))\n",
    "birlesmis_dizi"
   ],
   "id": "d551b426fffffefd",
   "outputs": [
    {
     "data": {
      "text/plain": [
       "array([[1, 2, 3],\n",
       "       [4, 5, 6]])"
      ]
     },
     "execution_count": 17,
     "metadata": {},
     "output_type": "execute_result"
    }
   ],
   "execution_count": 17
  },
  {
   "metadata": {
    "ExecuteTime": {
     "end_time": "2024-09-02T21:01:28.378012Z",
     "start_time": "2024-09-02T21:01:28.374146Z"
    }
   },
   "cell_type": "code",
   "source": [
    "#kokunu alma \n",
    "arr=np.arange(5)\n",
    "np.sqrt(arr)\n"
   ],
   "id": "13e3c3e13d6fad80",
   "outputs": [
    {
     "data": {
      "text/plain": [
       "array([0.        , 1.        , 1.41421356, 1.73205081, 2.        ])"
      ]
     },
     "execution_count": 18,
     "metadata": {},
     "output_type": "execute_result"
    }
   ],
   "execution_count": 18
  },
  {
   "metadata": {
    "ExecuteTime": {
     "end_time": "2024-09-02T21:01:28.381478Z",
     "start_time": "2024-09-02T21:01:28.378012Z"
    }
   },
   "cell_type": "code",
   "source": [
    "#e^x alma \n",
    "np.exp(arr) #exp = e^x"
   ],
   "id": "b7e4542f0a68ab1f",
   "outputs": [
    {
     "data": {
      "text/plain": [
       "array([ 1.        ,  2.71828183,  7.3890561 , 20.08553692, 54.59815003])"
      ]
     },
     "execution_count": 19,
     "metadata": {},
     "output_type": "execute_result"
    }
   ],
   "execution_count": 19
  },
  {
   "metadata": {
    "ExecuteTime": {
     "end_time": "2024-09-02T21:01:28.384601Z",
     "start_time": "2024-09-02T21:01:28.381478Z"
    }
   },
   "cell_type": "code",
   "source": [
    "#dosya kaydetme \n",
    "data=np.array([[1,2,3],[4,5,6],[7,8,9]])\n",
    "np.save('data.npy',data)"
   ],
   "id": "311237308190341c",
   "outputs": [],
   "execution_count": 20
  },
  {
   "metadata": {
    "ExecuteTime": {
     "end_time": "2024-09-02T21:01:28.388144Z",
     "start_time": "2024-09-02T21:01:28.384601Z"
    }
   },
   "cell_type": "code",
   "source": [
    "#dosya okuma \n",
    "np.load('data.npy')"
   ],
   "id": "3b8ffae5b4a733d5",
   "outputs": [
    {
     "data": {
      "text/plain": [
       "array([[1, 2, 3],\n",
       "       [4, 5, 6],\n",
       "       [7, 8, 9]])"
      ]
     },
     "execution_count": 21,
     "metadata": {},
     "output_type": "execute_result"
    }
   ],
   "execution_count": 21
  },
  {
   "metadata": {
    "ExecuteTime": {
     "end_time": "2024-09-02T21:01:28.391574Z",
     "start_time": "2024-09-02T21:01:28.388144Z"
    }
   },
   "cell_type": "code",
   "source": [
    "#matris toplami \n",
    "A = np.array([[1, 2, 3],\n",
    "              [4, 5, 6]])\n",
    "\n",
    "B = np.array([[7, 8, 9],\n",
    "              [10, 11, 12]])\n",
    "\n",
    "# Toplama\n",
    "C = A + B\n",
    "\n",
    "C"
   ],
   "id": "9ec3e18970f64100",
   "outputs": [
    {
     "data": {
      "text/plain": [
       "array([[ 8, 10, 12],\n",
       "       [14, 16, 18]])"
      ]
     },
     "execution_count": 22,
     "metadata": {},
     "output_type": "execute_result"
    }
   ],
   "execution_count": 22
  },
  {
   "metadata": {
    "ExecuteTime": {
     "end_time": "2024-09-02T21:01:28.395290Z",
     "start_time": "2024-09-02T21:01:28.391574Z"
    }
   },
   "cell_type": "code",
   "source": [
    "#matris carpimi \n",
    "x=np.array([[1,2,3],[4,5,6]])\n",
    "y=np.array([[6.23],[-1.27],[8.9]])\n",
    "\n",
    "x.dot(y) # np.dot(x,y) bu da calisir "
   ],
   "id": "f4078ff50558123a",
   "outputs": [
    {
     "data": {
      "text/plain": [
       "array([[30.39],\n",
       "       [71.97]])"
      ]
     },
     "execution_count": 23,
     "metadata": {},
     "output_type": "execute_result"
    }
   ],
   "execution_count": 23
  },
  {
   "metadata": {
    "ExecuteTime": {
     "end_time": "2024-09-02T21:01:28.399233Z",
     "start_time": "2024-09-02T21:01:28.395290Z"
    }
   },
   "cell_type": "code",
   "source": [
    "#iki matrisin karsilikli gelen elemanlari carpimi \n",
    "A = np.array([[1, 2, 3],\n",
    "              [4, 5, 6]])\n",
    "\n",
    "B = np.array([[7, 8, 9],\n",
    "              [10, 11, 12]])\n",
    "\n",
    "\n",
    "C = A * B\n",
    "C"
   ],
   "id": "30ee8f13dbd99cbc",
   "outputs": [
    {
     "data": {
      "text/plain": [
       "array([[ 7, 16, 27],\n",
       "       [40, 55, 72]])"
      ]
     },
     "execution_count": 24,
     "metadata": {},
     "output_type": "execute_result"
    }
   ],
   "execution_count": 24
  },
  {
   "metadata": {
    "ExecuteTime": {
     "end_time": "2024-09-02T21:01:28.403511Z",
     "start_time": "2024-09-02T21:01:28.399233Z"
    }
   },
   "cell_type": "code",
   "source": [
    "#matrisin transpozu \n",
    "A = np.array([[1, 2, 3],\n",
    "              [4, 5, 6]])\n",
    "A_T = A.T\n",
    "A_T"
   ],
   "id": "c56d24a454c5ef34",
   "outputs": [
    {
     "data": {
      "text/plain": [
       "array([[1, 4],\n",
       "       [2, 5],\n",
       "       [3, 6]])"
      ]
     },
     "execution_count": 25,
     "metadata": {},
     "output_type": "execute_result"
    }
   ],
   "execution_count": 25
  },
  {
   "metadata": {
    "ExecuteTime": {
     "end_time": "2024-09-02T21:01:28.407619Z",
     "start_time": "2024-09-02T21:01:28.403511Z"
    }
   },
   "cell_type": "code",
   "source": [
    "#matrisin determinanti\n",
    "A = np.array([[1, 2],\n",
    "              [3, 4]])\n",
    "\n",
    "det = np.linalg.det(A) #det fonksiyonu determinantini aliyor\n",
    "det"
   ],
   "id": "8a5cb66cdccbfbf6",
   "outputs": [
    {
     "data": {
      "text/plain": [
       "-2.0000000000000004"
      ]
     },
     "execution_count": 26,
     "metadata": {},
     "output_type": "execute_result"
    }
   ],
   "execution_count": 26
  },
  {
   "metadata": {
    "ExecuteTime": {
     "end_time": "2024-09-02T21:01:28.412049Z",
     "start_time": "2024-09-02T21:01:28.407619Z"
    }
   },
   "cell_type": "code",
   "source": [
    "#matrisin tersi \n",
    "A = np.array([[1, 2],\n",
    "              [3, 4]])\n",
    "\n",
    "A_inv = np.linalg.inv(A) # inv fonksiyonu tersini aliyor \n",
    "A_inv"
   ],
   "id": "5f0e2806ef7367a8",
   "outputs": [
    {
     "data": {
      "text/plain": [
       "array([[-2. ,  1. ],\n",
       "       [ 1.5, -0.5]])"
      ]
     },
     "execution_count": 27,
     "metadata": {},
     "output_type": "execute_result"
    }
   ],
   "execution_count": 27
  },
  {
   "metadata": {
    "ExecuteTime": {
     "end_time": "2024-09-02T21:01:28.416611Z",
     "start_time": "2024-09-02T21:01:28.413281Z"
    }
   },
   "cell_type": "code",
   "source": [
    "#matristen sutun cikarma \n",
    "data = np.array([[1,2,3],[4,5,6],[7,8,9]])\n",
    "data=np.delete(data,1,axis=1) #2.sutun cikardim\n",
    "data"
   ],
   "id": "e022438afe393ccf",
   "outputs": [
    {
     "data": {
      "text/plain": [
       "array([[1, 3],\n",
       "       [4, 6],\n",
       "       [7, 9]])"
      ]
     },
     "execution_count": 28,
     "metadata": {},
     "output_type": "execute_result"
    }
   ],
   "execution_count": 28
  },
  {
   "metadata": {
    "ExecuteTime": {
     "end_time": "2024-09-02T21:01:28.420714Z",
     "start_time": "2024-09-02T21:01:28.416611Z"
    }
   },
   "cell_type": "code",
   "source": [
    "data = np.array([[1,2,3],[4,5,6],[7,8,9]])\n",
    "data=np.delete(data,1,axis=0) #2.satiri cikardim\n",
    "data"
   ],
   "id": "4f7e8f3cc10bdc3d",
   "outputs": [
    {
     "data": {
      "text/plain": [
       "array([[1, 2, 3],\n",
       "       [7, 8, 9]])"
      ]
     },
     "execution_count": 29,
     "metadata": {},
     "output_type": "execute_result"
    }
   ],
   "execution_count": 29
  }
 ],
 "metadata": {
  "kernelspec": {
   "display_name": "Python 3",
   "language": "python",
   "name": "python3"
  },
  "language_info": {
   "codemirror_mode": {
    "name": "ipython",
    "version": 2
   },
   "file_extension": ".py",
   "mimetype": "text/x-python",
   "name": "python",
   "nbconvert_exporter": "python",
   "pygments_lexer": "ipython2",
   "version": "2.7.6"
  }
 },
 "nbformat": 4,
 "nbformat_minor": 5
}
