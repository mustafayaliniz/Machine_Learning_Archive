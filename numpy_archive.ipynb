{
 "cells": [
  {
   "metadata": {
    "ExecuteTime": {
     "end_time": "2024-08-20T11:29:45.562195Z",
     "start_time": "2024-08-20T11:29:45.557800Z"
    }
   },
   "cell_type": "code",
   "source": "import  numpy as np",
   "id": "1bc274abb3432b68",
   "outputs": [],
   "execution_count": 301
  },
  {
   "metadata": {},
   "cell_type": "markdown",
   "source": "@Author= MUSTAFA YALINIZ",
   "id": "4adedf19cc360828"
  },
  {
   "metadata": {
    "ExecuteTime": {
     "end_time": "2024-08-20T11:29:45.615931Z",
     "start_time": "2024-08-20T11:29:45.605554Z"
    }
   },
   "cell_type": "code",
   "source": [
    "#rastgele sayi üremte \n",
    "data =np.random.rand(3,3)\n",
    "data"
   ],
   "id": "c70de74c780ff021",
   "outputs": [
    {
     "data": {
      "text/plain": [
       "array([[0.89699492, 0.61507787, 0.15718468],\n",
       "       [0.05083816, 0.31747002, 0.68919254],\n",
       "       [0.43457147, 0.4870846 , 0.48274604]])"
      ]
     },
     "execution_count": 302,
     "metadata": {},
     "output_type": "execute_result"
    }
   ],
   "execution_count": 302
  },
  {
   "metadata": {
    "ExecuteTime": {
     "end_time": "2024-08-20T11:29:45.620345Z",
     "start_time": "2024-08-20T11:29:45.615931Z"
    }
   },
   "cell_type": "code",
   "source": [
    "#matris boyutunu ogrenme\n",
    "data.shape"
   ],
   "id": "bf6b38fbba23d0a0",
   "outputs": [
    {
     "data": {
      "text/plain": [
       "(3, 3)"
      ]
     },
     "execution_count": 303,
     "metadata": {},
     "output_type": "execute_result"
    }
   ],
   "execution_count": 303
  },
  {
   "metadata": {
    "ExecuteTime": {
     "end_time": "2024-08-20T11:29:45.624207Z",
     "start_time": "2024-08-20T11:29:45.620345Z"
    }
   },
   "cell_type": "code",
   "source": [
    "#veri tipini ogrenme\n",
    "data.dtype"
   ],
   "id": "6639aac7c8a98871",
   "outputs": [
    {
     "data": {
      "text/plain": [
       "dtype('float64')"
      ]
     },
     "execution_count": 304,
     "metadata": {},
     "output_type": "execute_result"
    }
   ],
   "execution_count": 304
  },
  {
   "metadata": {
    "ExecuteTime": {
     "end_time": "2024-08-20T11:29:45.641211Z",
     "start_time": "2024-08-20T11:29:45.636226Z"
    }
   },
   "cell_type": "code",
   "source": [
    "#dizi olusturma \n",
    "veri=(1,2,3,4)\n",
    "df=np.array(veri)\n",
    "df"
   ],
   "id": "18c886fddb2eeef6",
   "outputs": [
    {
     "data": {
      "text/plain": [
       "array([1, 2, 3, 4])"
      ]
     },
     "execution_count": 305,
     "metadata": {},
     "output_type": "execute_result"
    }
   ],
   "execution_count": 305
  },
  {
   "metadata": {
    "ExecuteTime": {
     "end_time": "2024-08-20T11:29:45.659534Z",
     "start_time": "2024-08-20T11:29:45.642675Z"
    }
   },
   "cell_type": "code",
   "source": [
    "#dizi olusturma 2\n",
    "veri1=[[1,2,3],[4,5,6]]\n",
    "data=np.array(veri1)\n",
    "data"
   ],
   "id": "1377d2e3821887f",
   "outputs": [
    {
     "data": {
      "text/plain": [
       "array([[1, 2, 3],\n",
       "       [4, 5, 6]])"
      ]
     },
     "execution_count": 306,
     "metadata": {},
     "output_type": "execute_result"
    }
   ],
   "execution_count": 306
  },
  {
   "metadata": {
    "ExecuteTime": {
     "end_time": "2024-08-20T11:29:45.667320Z",
     "start_time": "2024-08-20T11:29:45.659534Z"
    }
   },
   "cell_type": "code",
   "source": [
    "#dizi olusturma 3\n",
    "data=np.array(5,dtype=np.float64)\n",
    "data"
   ],
   "id": "cd39d8c5d44f16c4",
   "outputs": [
    {
     "data": {
      "text/plain": [
       "array(5.)"
      ]
     },
     "execution_count": 307,
     "metadata": {},
     "output_type": "execute_result"
    }
   ],
   "execution_count": 307
  },
  {
   "metadata": {
    "ExecuteTime": {
     "end_time": "2024-08-20T11:29:45.671661Z",
     "start_time": "2024-08-20T11:29:45.667320Z"
    }
   },
   "cell_type": "code",
   "source": [
    "#sifirli dizi olusturma \n",
    "data=np.zeros((3,3))\n",
    "data"
   ],
   "id": "1dc1019fef7c76a6",
   "outputs": [
    {
     "data": {
      "text/plain": [
       "array([[0., 0., 0.],\n",
       "       [0., 0., 0.],\n",
       "       [0., 0., 0.]])"
      ]
     },
     "execution_count": 308,
     "metadata": {},
     "output_type": "execute_result"
    }
   ],
   "execution_count": 308
  },
  {
   "metadata": {
    "ExecuteTime": {
     "end_time": "2024-08-20T11:29:45.677605Z",
     "start_time": "2024-08-20T11:29:45.674181Z"
    }
   },
   "cell_type": "code",
   "source": [
    "#sifirli dizi olusturma 2\n",
    "data=np.zeros(5)\n",
    "data"
   ],
   "id": "e87791f14b41a3a",
   "outputs": [
    {
     "data": {
      "text/plain": [
       "array([0., 0., 0., 0., 0.])"
      ]
     },
     "execution_count": 309,
     "metadata": {},
     "output_type": "execute_result"
    }
   ],
   "execution_count": 309
  },
  {
   "metadata": {
    "ExecuteTime": {
     "end_time": "2024-08-20T11:29:45.682109Z",
     "start_time": "2024-08-20T11:29:45.677605Z"
    }
   },
   "cell_type": "code",
   "source": [
    "#elemanlari '1' li dizi olusturma \n",
    "data=np.ones((3,3))\n",
    "data"
   ],
   "id": "366c5cfa42a3b8f7",
   "outputs": [
    {
     "data": {
      "text/plain": [
       "array([[1., 1., 1.],\n",
       "       [1., 1., 1.],\n",
       "       [1., 1., 1.]])"
      ]
     },
     "execution_count": 310,
     "metadata": {},
     "output_type": "execute_result"
    }
   ],
   "execution_count": 310
  },
  {
   "metadata": {
    "ExecuteTime": {
     "end_time": "2024-08-20T11:29:45.685709Z",
     "start_time": "2024-08-20T11:29:45.682109Z"
    }
   },
   "cell_type": "code",
   "source": [
    "#elemanlari '1' li dizi olusturma 2\n",
    "data=np.ones(5,dtype=np.int32) #tam sayili\n",
    "data"
   ],
   "id": "bf19d0598cf3f400",
   "outputs": [
    {
     "data": {
      "text/plain": [
       "array([1, 1, 1, 1, 1])"
      ]
     },
     "execution_count": 311,
     "metadata": {},
     "output_type": "execute_result"
    }
   ],
   "execution_count": 311
  },
  {
   "metadata": {
    "ExecuteTime": {
     "end_time": "2024-08-20T11:29:45.689085Z",
     "start_time": "2024-08-20T11:29:45.685709Z"
    }
   },
   "cell_type": "code",
   "source": [
    "#bos dizi olusturma \n",
    "data=np.empty((2,2,2))\n",
    "data"
   ],
   "id": "50b91924b9318a97",
   "outputs": [
    {
     "data": {
      "text/plain": [
       "array([[[0.0000e+000, 0.0000e+000],\n",
       "        [0.0000e+000, 0.0000e+000]],\n",
       "\n",
       "       [[0.0000e+000, 1.2233e-320],\n",
       "        [0.0000e+000, 0.0000e+000]]])"
      ]
     },
     "execution_count": 312,
     "metadata": {},
     "output_type": "execute_result"
    }
   ],
   "execution_count": 312
  },
  {
   "metadata": {
    "ExecuteTime": {
     "end_time": "2024-08-20T11:29:45.692756Z",
     "start_time": "2024-08-20T11:29:45.689085Z"
    }
   },
   "cell_type": "code",
   "source": [
    "#sirali dizi olusturma \n",
    "data=np.arange(10,dtype=np.float64) #veri tipi float\n",
    "data"
   ],
   "id": "ad79505e247c37cc",
   "outputs": [
    {
     "data": {
      "text/plain": [
       "array([0., 1., 2., 3., 4., 5., 6., 7., 8., 9.])"
      ]
     },
     "execution_count": 313,
     "metadata": {},
     "output_type": "execute_result"
    }
   ],
   "execution_count": 313
  },
  {
   "metadata": {
    "ExecuteTime": {
     "end_time": "2024-08-20T11:29:45.696464Z",
     "start_time": "2024-08-20T11:29:45.692756Z"
    }
   },
   "cell_type": "code",
   "source": [
    "#veri tipini degistirme\n",
    "veri =np.array([1.3,2.3,3.3,4.5,5.5,6.5])\n",
    "data=veri.astype(int)\n",
    "data"
   ],
   "id": "69d045af62f2b2b7",
   "outputs": [
    {
     "data": {
      "text/plain": [
       "array([1, 2, 3, 4, 5, 6])"
      ]
     },
     "execution_count": 314,
     "metadata": {},
     "output_type": "execute_result"
    }
   ],
   "execution_count": 314
  },
  {
   "metadata": {
    "ExecuteTime": {
     "end_time": "2024-08-20T11:29:45.700600Z",
     "start_time": "2024-08-20T11:29:45.696464Z"
    }
   },
   "cell_type": "code",
   "source": [
    "#veri tipini degistirme 2\n",
    "numeric_string=np.array([1.212,2.56,3.654,4.54,5.86,6.12,7.86,8.876,9.11],dtype=np.string_) #veri tipi string\n",
    "data=numeric_string.astype(float)\n",
    "data"
   ],
   "id": "18e9579fd59523fb",
   "outputs": [
    {
     "data": {
      "text/plain": [
       "array([1.212, 2.56 , 3.654, 4.54 , 5.86 , 6.12 , 7.86 , 8.876, 9.11 ])"
      ]
     },
     "execution_count": 315,
     "metadata": {},
     "output_type": "execute_result"
    }
   ],
   "execution_count": 315
  },
  {
   "metadata": {
    "ExecuteTime": {
     "end_time": "2024-08-20T11:29:45.723746Z",
     "start_time": "2024-08-20T11:29:45.705047Z"
    }
   },
   "cell_type": "code",
   "source": [
    "#matris boyutlandirma \n",
    "data=np.arange(9)\n",
    "data=data.reshape(3,3)\n",
    "data"
   ],
   "id": "1dd1c065c0cd3",
   "outputs": [
    {
     "data": {
      "text/plain": [
       "array([[0, 1, 2],\n",
       "       [3, 4, 5],\n",
       "       [6, 7, 8]])"
      ]
     },
     "execution_count": 316,
     "metadata": {},
     "output_type": "execute_result"
    }
   ],
   "execution_count": 316
  },
  {
   "metadata": {
    "ExecuteTime": {
     "end_time": "2024-08-20T11:29:45.737156Z",
     "start_time": "2024-08-20T11:29:45.723746Z"
    }
   },
   "cell_type": "code",
   "source": [
    "#kokunu alma \n",
    "arr=np.arange(5)\n",
    "np.sqrt(arr)\n"
   ],
   "id": "13e3c3e13d6fad80",
   "outputs": [
    {
     "data": {
      "text/plain": [
       "array([0.        , 1.        , 1.41421356, 1.73205081, 2.        ])"
      ]
     },
     "execution_count": 317,
     "metadata": {},
     "output_type": "execute_result"
    }
   ],
   "execution_count": 317
  },
  {
   "metadata": {
    "ExecuteTime": {
     "end_time": "2024-08-20T11:29:45.742025Z",
     "start_time": "2024-08-20T11:29:45.738159Z"
    }
   },
   "cell_type": "code",
   "source": [
    "#e^x alma \n",
    "np.exp(arr) #exp = e^x"
   ],
   "id": "b7e4542f0a68ab1f",
   "outputs": [
    {
     "data": {
      "text/plain": [
       "array([ 1.        ,  2.71828183,  7.3890561 , 20.08553692, 54.59815003])"
      ]
     },
     "execution_count": 318,
     "metadata": {},
     "output_type": "execute_result"
    }
   ],
   "execution_count": 318
  },
  {
   "metadata": {
    "ExecuteTime": {
     "end_time": "2024-08-20T11:29:45.767652Z",
     "start_time": "2024-08-20T11:29:45.752595Z"
    }
   },
   "cell_type": "code",
   "source": [
    "#dosya kaydetme \n",
    "data=np.array([[1,2,3],[4,5,6],[7,8,9]])\n",
    "np.save('data.npy',data)"
   ],
   "id": "311237308190341c",
   "outputs": [],
   "execution_count": 319
  },
  {
   "metadata": {
    "ExecuteTime": {
     "end_time": "2024-08-20T11:29:45.773074Z",
     "start_time": "2024-08-20T11:29:45.767652Z"
    }
   },
   "cell_type": "code",
   "source": [
    "#dosya okuma \n",
    "np.load('data.npy')"
   ],
   "id": "3b8ffae5b4a733d5",
   "outputs": [
    {
     "data": {
      "text/plain": [
       "array([[1, 2, 3],\n",
       "       [4, 5, 6],\n",
       "       [7, 8, 9]])"
      ]
     },
     "execution_count": 320,
     "metadata": {},
     "output_type": "execute_result"
    }
   ],
   "execution_count": 320
  },
  {
   "metadata": {
    "ExecuteTime": {
     "end_time": "2024-08-20T11:29:45.778705Z",
     "start_time": "2024-08-20T11:29:45.773074Z"
    }
   },
   "cell_type": "code",
   "source": [
    "#matris carpimi \n",
    "x=np.array([[1,2,3],[4,5,6]])\n",
    "y=np.array([[6.23],[-1.27],[8.9]])\n",
    "\n",
    "x.dot(y) # np.dot(x,y) bu da calisir "
   ],
   "id": "f4078ff50558123a",
   "outputs": [
    {
     "data": {
      "text/plain": [
       "array([[30.39],\n",
       "       [71.97]])"
      ]
     },
     "execution_count": 321,
     "metadata": {},
     "output_type": "execute_result"
    }
   ],
   "execution_count": 321
  }
 ],
 "metadata": {
  "kernelspec": {
   "display_name": "Python 3",
   "language": "python",
   "name": "python3"
  },
  "language_info": {
   "codemirror_mode": {
    "name": "ipython",
    "version": 2
   },
   "file_extension": ".py",
   "mimetype": "text/x-python",
   "name": "python",
   "nbconvert_exporter": "python",
   "pygments_lexer": "ipython2",
   "version": "2.7.6"
  }
 },
 "nbformat": 4,
 "nbformat_minor": 5
}
