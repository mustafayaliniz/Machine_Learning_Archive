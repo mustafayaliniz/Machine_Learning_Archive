{
 "cells": [
  {
   "cell_type": "code",
   "id": "initial_id",
   "metadata": {
    "collapsed": true,
    "ExecuteTime": {
     "end_time": "2024-10-03T08:04:07.082388Z",
     "start_time": "2024-10-03T08:04:07.079214Z"
    }
   },
   "source": "import pandas as pd",
   "outputs": [],
   "execution_count": 51
  },
  {
   "metadata": {},
   "cell_type": "markdown",
   "source": "@author: MUSTAFA YALINIZ",
   "id": "dcb2316565ac0308"
  },
  {
   "metadata": {
    "ExecuteTime": {
     "end_time": "2024-10-03T08:04:07.099267Z",
     "start_time": "2024-10-03T08:04:07.092396Z"
    }
   },
   "cell_type": "code",
   "source": [
    "# Veriyi oku \n",
    "data = pd.read_csv('musteriler.csv')\n",
    "data.head()"
   ],
   "id": "7c4f845ebccb4b2c",
   "outputs": [
    {
     "data": {
      "text/plain": [
       "   No Cinsiyet  Yas  Hacim  Maas\n",
       "0   1        K   60  69900  6325\n",
       "1   2        K   30  79000  5200\n",
       "2   3        E   52  85500  7825\n",
       "3   4        E   57  17100  8375\n",
       "4   5        E   55   5500  5450"
      ],
      "text/html": [
       "<div>\n",
       "<style scoped>\n",
       "    .dataframe tbody tr th:only-of-type {\n",
       "        vertical-align: middle;\n",
       "    }\n",
       "\n",
       "    .dataframe tbody tr th {\n",
       "        vertical-align: top;\n",
       "    }\n",
       "\n",
       "    .dataframe thead th {\n",
       "        text-align: right;\n",
       "    }\n",
       "</style>\n",
       "<table border=\"1\" class=\"dataframe\">\n",
       "  <thead>\n",
       "    <tr style=\"text-align: right;\">\n",
       "      <th></th>\n",
       "      <th>No</th>\n",
       "      <th>Cinsiyet</th>\n",
       "      <th>Yas</th>\n",
       "      <th>Hacim</th>\n",
       "      <th>Maas</th>\n",
       "    </tr>\n",
       "  </thead>\n",
       "  <tbody>\n",
       "    <tr>\n",
       "      <th>0</th>\n",
       "      <td>1</td>\n",
       "      <td>K</td>\n",
       "      <td>60</td>\n",
       "      <td>69900</td>\n",
       "      <td>6325</td>\n",
       "    </tr>\n",
       "    <tr>\n",
       "      <th>1</th>\n",
       "      <td>2</td>\n",
       "      <td>K</td>\n",
       "      <td>30</td>\n",
       "      <td>79000</td>\n",
       "      <td>5200</td>\n",
       "    </tr>\n",
       "    <tr>\n",
       "      <th>2</th>\n",
       "      <td>3</td>\n",
       "      <td>E</td>\n",
       "      <td>52</td>\n",
       "      <td>85500</td>\n",
       "      <td>7825</td>\n",
       "    </tr>\n",
       "    <tr>\n",
       "      <th>3</th>\n",
       "      <td>4</td>\n",
       "      <td>E</td>\n",
       "      <td>57</td>\n",
       "      <td>17100</td>\n",
       "      <td>8375</td>\n",
       "    </tr>\n",
       "    <tr>\n",
       "      <th>4</th>\n",
       "      <td>5</td>\n",
       "      <td>E</td>\n",
       "      <td>55</td>\n",
       "      <td>5500</td>\n",
       "      <td>5450</td>\n",
       "    </tr>\n",
       "  </tbody>\n",
       "</table>\n",
       "</div>"
      ]
     },
     "execution_count": 52,
     "metadata": {},
     "output_type": "execute_result"
    }
   ],
   "execution_count": 52
  },
  {
   "metadata": {
    "ExecuteTime": {
     "end_time": "2024-10-03T08:04:07.102501Z",
     "start_time": "2024-10-03T08:04:07.099267Z"
    }
   },
   "cell_type": "code",
   "source": [
    "# Veriyi Bagimli ve bagimsiz degisken olarak ayarla\n",
    "X = data.iloc[:, 2:].values\n",
    "Y = data.iloc[:, 1].values"
   ],
   "id": "a89f9ddc3e131c84",
   "outputs": [],
   "execution_count": 53
  },
  {
   "metadata": {
    "ExecuteTime": {
     "end_time": "2024-10-03T08:04:07.105360Z",
     "start_time": "2024-10-03T08:04:07.102501Z"
    }
   },
   "cell_type": "code",
   "source": [
    "# Y Verisini encode et \n",
    "from sklearn.preprocessing import LabelEncoder\n",
    "le = LabelEncoder()\n",
    "Y = le.fit_transform(Y)"
   ],
   "id": "54977c731a30be70",
   "outputs": [],
   "execution_count": 54
  },
  {
   "metadata": {
    "ExecuteTime": {
     "end_time": "2024-10-03T08:04:07.108964Z",
     "start_time": "2024-10-03T08:04:07.106366Z"
    }
   },
   "cell_type": "code",
   "source": [
    "# Veriyi test ve train olmak uzere ikiye ayir \n",
    "from sklearn.model_selection import train_test_split\n",
    "X_train, X_test, Y_train, Y_test = train_test_split(X, Y, test_size=0.2, random_state=0)"
   ],
   "id": "6ed322916e2fabb6",
   "outputs": [],
   "execution_count": 55
  },
  {
   "metadata": {
    "ExecuteTime": {
     "end_time": "2024-10-03T08:04:07.139916Z",
     "start_time": "2024-10-03T08:04:07.134765Z"
    }
   },
   "cell_type": "code",
   "source": [
    "# Veriyi egit \n",
    "from sklearn.svm import SVC\n",
    "classifier = SVC(kernel='rbf', random_state=0)\n",
    "classifier.fit(X_train, Y_train)\n",
    "Y_pred = classifier.predict(X_test)\n",
    "Y_pred "
   ],
   "id": "3fb53c642b69af15",
   "outputs": [
    {
     "data": {
      "text/plain": [
       "array([0, 0, 0, 1, 0, 0, 0, 0, 0, 0, 0, 0, 0, 0, 0, 0, 0, 0, 0, 0, 0, 0,\n",
       "       0, 0, 0, 0, 0, 0, 0, 0, 0, 0, 0, 0, 0, 0, 1, 0, 0, 0])"
      ]
     },
     "execution_count": 56,
     "metadata": {},
     "output_type": "execute_result"
    }
   ],
   "execution_count": 56
  },
  {
   "metadata": {
    "ExecuteTime": {
     "end_time": "2024-10-03T08:04:07.168132Z",
     "start_time": "2024-10-03T08:04:07.163927Z"
    }
   },
   "cell_type": "code",
   "source": [
    "# Confusion matrix ine bak verinin\n",
    "from sklearn.metrics import confusion_matrix\n",
    "cm = confusion_matrix(Y_test, Y_pred)\n",
    "print(cm)"
   ],
   "id": "ea510abcb84b61d2",
   "outputs": [
    {
     "name": "stdout",
     "output_type": "stream",
     "text": [
      "[[20  0]\n",
      " [18  2]]\n"
     ]
    }
   ],
   "execution_count": 57
  },
  {
   "metadata": {
    "ExecuteTime": {
     "end_time": "2024-10-03T08:04:07.244285Z",
     "start_time": "2024-10-03T08:04:07.225773Z"
    }
   },
   "cell_type": "code",
   "source": [
    "# Verinin cross val scoreuna bak\n",
    "from sklearn.model_selection import cross_val_score\n",
    "dogruluk = cross_val_score(estimator=classifier, X=X_train, y=Y_train, cv=10)\n",
    "print(dogruluk)"
   ],
   "id": "9eb479caff44bc96",
   "outputs": [
    {
     "name": "stdout",
     "output_type": "stream",
     "text": [
      "[0.5625 0.5    0.5625 0.4375 0.4375 0.4375 0.5    0.5625 0.625  0.625 ]\n"
     ]
    }
   ],
   "execution_count": 58
  },
  {
   "metadata": {
    "ExecuteTime": {
     "end_time": "2024-10-03T08:04:07.248148Z",
     "start_time": "2024-10-03T08:04:07.244285Z"
    }
   },
   "cell_type": "code",
   "source": "print(dogruluk.mean())",
   "id": "f2f2982c60a21ebb",
   "outputs": [
    {
     "name": "stdout",
     "output_type": "stream",
     "text": [
      "0.525\n"
     ]
    }
   ],
   "execution_count": 59
  }
 ],
 "metadata": {
  "kernelspec": {
   "display_name": "Python 3",
   "language": "python",
   "name": "python3"
  },
  "language_info": {
   "codemirror_mode": {
    "name": "ipython",
    "version": 2
   },
   "file_extension": ".py",
   "mimetype": "text/x-python",
   "name": "python",
   "nbconvert_exporter": "python",
   "pygments_lexer": "ipython2",
   "version": "2.7.6"
  }
 },
 "nbformat": 4,
 "nbformat_minor": 5
}
